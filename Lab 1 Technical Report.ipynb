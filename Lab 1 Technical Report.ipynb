{
 "cells": [
  {
   "cell_type": "code",
   "execution_count": 1,
   "id": "7cbb08da-b48a-497d-a162-326af8dbd39f",
   "metadata": {
    "execution": {
     "iopub.execute_input": "2022-02-11T14:28:44.749380Z",
     "iopub.status.busy": "2022-02-11T14:28:44.748841Z",
     "iopub.status.idle": "2022-02-11T14:28:47.531525Z",
     "shell.execute_reply": "2022-02-11T14:28:47.529878Z",
     "shell.execute_reply.started": "2022-02-11T14:28:44.749318Z"
    },
    "tags": []
   },
   "outputs": [
    {
     "name": "stderr",
     "output_type": "stream",
     "text": [
      "Matplotlib created a temporary config/cache directory at /tmp/matplotlib-npmc8p8c because the default path (/home/casoriano/.cache/matplotlib) is not a writable directory; it is highly recommended to set the MPLCONFIGDIR environment variable to a writable directory, in particular to speed up the import of Matplotlib and to better support multiprocessing.\n"
     ]
    }
   ],
   "source": [
    "from utils import *"
   ]
  },
  {
   "cell_type": "code",
   "execution_count": 28,
   "id": "1ce62952-4678-4f6c-8431-7409f5608e14",
   "metadata": {
    "execution": {
     "iopub.execute_input": "2022-02-12T04:56:35.671547Z",
     "iopub.status.busy": "2022-02-12T04:56:35.670994Z",
     "iopub.status.idle": "2022-02-12T04:56:35.682273Z",
     "shell.execute_reply": "2022-02-12T04:56:35.680949Z",
     "shell.execute_reply.started": "2022-02-12T04:56:35.671487Z"
    },
    "tags": []
   },
   "outputs": [
    {
     "data": {
      "text/html": [
       "<script>\n",
       "code_show=true;\n",
       "function code_toggle() {\n",
       " if (code_show){\n",
       " $('div.input').hide();\n",
       " } else {\n",
       " $('div.input').show();\n",
       " }\n",
       " code_show = !code_show\n",
       "}\n",
       "$( document ).ready(code_toggle);\n",
       "</script>\n",
       "<form action=\"javascript:code_toggle()\">\n",
       "<input type=\"submit\" value=\"Click to toggle on/off the raw code.\">\n",
       "</form>\n",
       "\n",
       "<style>\n",
       ".output_png {\n",
       "    display: table-cell;\n",
       "    text-align: center;\n",
       "    vertical-align: middle;\n",
       "}\n",
       "</style>"
      ],
      "text/plain": [
       "<IPython.core.display.HTML object>"
      ]
     },
     "execution_count": 28,
     "metadata": {},
     "output_type": "execute_result"
    }
   ],
   "source": [
    "HTML('''<script>\n",
    "code_show=true;\n",
    "function code_toggle() {\n",
    " if (code_show){\n",
    " $('div.input').hide();\n",
    " } else {\n",
    " $('div.input').show();\n",
    " }\n",
    " code_show = !code_show\n",
    "}\n",
    "$( document ).ready(code_toggle);\n",
    "</script>\n",
    "<form action=\"javascript:code_toggle()\">\n",
    "<input type=\"submit\" value=\"Click to toggle on/off the raw code.\">\n",
    "</form>\n",
    "\n",
    "<style>\n",
    ".output_png {\n",
    "    display: table-cell;\n",
    "    text-align: center;\n",
    "    vertical-align: middle;\n",
    "}\n",
    "</style>''')"
   ]
  },
  {
   "cell_type": "markdown",
   "id": "88315aac-08b1-4cac-9ee5-79f438fab827",
   "metadata": {
    "execution": {
     "iopub.execute_input": "2022-02-12T04:54:17.163919Z",
     "iopub.status.busy": "2022-02-12T04:54:17.163360Z",
     "iopub.status.idle": "2022-02-12T04:54:17.172462Z",
     "shell.execute_reply": "2022-02-12T04:54:17.170671Z",
     "shell.execute_reply.started": "2022-02-12T04:54:17.163857Z"
    },
    "tags": []
   },
   "source": [
    "<img src=\"images/danbooru2.png\" class=\"center\" />"
   ]
  },
  {
   "cell_type": "markdown",
   "id": "943218d0-0896-424b-a01d-8348df750c1b",
   "metadata": {},
   "source": [
    "# TITLE\n",
    "### Association Pattern Mining for Related Character Tags on Danbooru"
   ]
  },
  {
   "cell_type": "markdown",
   "id": "f77522fe-feb0-4029-bbcb-4af7c51f2c86",
   "metadata": {},
   "source": [
    "## 1. Executive Summary\n",
    "\n",
    "<div style='text-align: justify'>Association Analysis using the pyFIM algorithm has shown to be a relevant method of generating associated tags on the basis of an image’s character tag for the Danbooru image aggregator site. Characters have definite features associated with their design and this is not fully considered by Danbooru’s current methodology for suggesting Related Tags which utilizes the cosine distance of a particular tag’s use count. We filtered  the dataset to test our usecase on the 5 most popularly tagged characters and 5 undertagged characters which we determined based on the distribution of those characters' tags. Using Confidence from pyFIM’s arules method as a metric, we generated suggested tagsets for each of those characters' tags. We then compared pyFIM's generated tagsets with the current tags on each of the characters Related Tags page and compared the sets using the Jaccard similarity index. The generated tags produced a better description of each of the character's features in general tags validating the methodology of our usecase.</div>"
   ]
  },
  {
   "cell_type": "markdown",
   "id": "1acab8ae-0dc6-44c8-a56e-c39e41ae8a69",
   "metadata": {},
   "source": [
    "## 2. Introduction\n",
    "\n",
    "<div style='text-align: justify'>Image aggregation sites like Danbooru rely on text tagging so that users may be able to search for their desired content. Danbooru in particular utilizes a combination of user recommendations, Convolutional Neural Networks (CNNs) which are trained to identify images, and many other techniques to assign tags to each image. Our team aims to use Frequent Itemset Mining algorithms to as a supplementary tagging system that suggests related tags for images based-off an existing character tag. Suggestions would be generated from tags sets that are frequently grouped together that are found in other images of the particular character. With this proposed implementation, image tags would be generated instead of having to wait for users to submit tags which would take more time or relying solely on CNNs which are computationally expensive and have their own limitations.</div>"
   ]
  },
  {
   "cell_type": "markdown",
   "id": "a40fba7f-8a71-48d4-b84c-e8dd5b44da23",
   "metadata": {},
   "source": [
    "## 3. Problem Statement\n",
    "\n",
    "<div style='text-align: justify'>How might we recommend related tags for sparsely tagged images of particular characters?</div>"
   ]
  },
  {
   "cell_type": "markdown",
   "id": "fe9fd586-4b1e-40c3-b1a6-1711ce9a3748",
   "metadata": {},
   "source": [
    "## 4. Motivation / Business Value\n",
    "\n",
    "<div style='text-align: justify'>With the vast amount of content available on Danbooru, the number usually exceeds the number of users, so a user tagged environment would result in an insufficient number of tags for the vast amount of content. CNNs on the other hand are computationally expensive to generate tags for a single image. Additionally, they are limited to the patterns they have learned to recognize and do not acknowledge the context of the features it recognizes. Images of characters have definite features associated with their design and many images are insufficiently tagged with the features of their appearance. This system can augment existing metadata by recommending related tags using an image’s character tag which would serve at some point as a ground truth label. Danbooru’s current related tag system uses cosine similarity between tags used for each post.\n",
    "</div>"
   ]
  },
  {
   "cell_type": "markdown",
   "id": "3a5a6d8f-5883-40a3-a24d-d598b70f5df6",
   "metadata": {},
   "source": [
    "## 5. Data Description\n",
    "\n",
    "<div style='text-align: justify'>The dataset is from Danbooru (https://www.kaggle.com/mylesoneill/tagged-anime-illustrations), an imageboard website and is accessible on Jojie via public data. The full dataset is 45.34GB. The images were scraped from the website including their metadata which includes tags associated with the image. The images are described as artwork depicting characters from Japanese anime. Most of the images were tagged as Safe-For-Work (SFW) or non-explicit, however, the website does not ban explicit or pornographic images and it is possible that mislabeled images are stll in the dataset.</div>"
   ]
  },
  {
   "cell_type": "markdown",
   "id": "47dd55e8-7931-49ed-a3ad-773e98627131",
   "metadata": {
    "tags": []
   },
   "source": [
    "<table>\n",
    "  <tr>\n",
    "    <th>Feature</th>\n",
    "    <th>Type</th> \n",
    "    <th>Description</th> \n",
    "  </tr>\n",
    "  <tr>\n",
    "    <td>id</td>\n",
    "    <td>string</td>\n",
    "    <td>The unqiue identification number assigned to the image in the dataset.</td> \n",
    "  </tr>\n",
    "  <tr>\n",
    "    <td>tags</td>\n",
    "    <td>list of strings</td>\n",
    "    <td>List of tags associated with an image sorted in lexicological order.</td> \n",
    "  </tr>\n",
    "  <tr>\n",
    "    <td>cat</td>\n",
    "    <td>list of strings</td>\n",
    "    <td>List of categories corresponding to tags in the same order.</td> \n",
    "  </tr>\n",
    "</table>"
   ]
  },
  {
   "cell_type": "markdown",
   "id": "e8959249-a51e-484d-86e8-3e1ad5d936e2",
   "metadata": {},
   "source": [
    "The categories of tags are described as follows:\n",
    "\n",
    "<table>\n",
    "  <tr>\n",
    "    <th>Label</th>\n",
    "    <th>Category</th> \n",
    "    <th>Description</th>\n",
    "  </tr>\n",
    "  <tr>\n",
    "    <td>0</td>\n",
    "    <td>general</td>\n",
    "    <td>Tags that are used for everything else.</td>\n",
    "  </tr>\n",
    "  <tr>\n",
    "    <td>1</td>\n",
    "    <td>artist</td>\n",
    "    <td>Identify the creator of a post and does not necessarily correspond to the creator of the original copyrighted artwork.</td>\n",
    "  </tr>\n",
    "  <tr>\n",
    "    <td>2</td>\n",
    "    <td>???</td>\n",
    "    <td>Unidentified by Danbooru documentation.</td>\n",
    "  </tr>\n",
    "  <tr>\n",
    "    <td>3</td>\n",
    "    <td>copyrights</td>\n",
    "    <td>Identify the source material that the characters are from.</td>\n",
    "  </tr>\n",
    "  <tr>\n",
    "    <td>4</td>\n",
    "    <td>characters</td>\n",
    "    <td>Identify the characters in the image.</td>\n",
    "  </tr>\n",
    "  <tr>\n",
    "    <td>5</td>\n",
    "    <td>meta</td>\n",
    "    <td>Identify things beyond the content of the image itself such as if the image is translated.</td>\n",
    "  </tr>\n",
    "</table>"
   ]
  },
  {
   "cell_type": "markdown",
   "id": "c20f1c4a-aa82-47f9-83ee-6ff04a627bc2",
   "metadata": {},
   "source": [
    "# Methodology\n",
    "\n",
    "The methodology for this study is as follows:"
   ]
  },
  {
   "cell_type": "markdown",
   "id": "34547308-41e5-456c-8e78-6955d77aaaac",
   "metadata": {
    "execution": {
     "iopub.execute_input": "2022-02-12T04:55:38.789534Z",
     "iopub.status.busy": "2022-02-12T04:55:38.788990Z",
     "iopub.status.idle": "2022-02-12T04:55:38.799082Z",
     "shell.execute_reply": "2022-02-12T04:55:38.797120Z",
     "shell.execute_reply.started": "2022-02-12T04:55:38.789474Z"
    },
    "tags": []
   },
   "source": [
    "<img src=\"images/methodology.png\" class=\"center\" />"
   ]
  },
  {
   "cell_type": "markdown",
   "id": "912ae8c4-8b57-4772-b7c1-7f4c9d9efa76",
   "metadata": {},
   "source": [
    "<div style='text-align: center'><b>Figure 1.</b> The pipeline for the association pattern mining project for related tags.</div>"
   ]
  },
  {
   "cell_type": "markdown",
   "id": "428d644a-710a-4f30-b680-deedb55a7982",
   "metadata": {},
   "source": [
    "## 6. Extract metadata\n",
    "\n",
    "<div style='text-align: justify'>The dataset was scraped from Danbooru. This includes both the image files and the metadata stored in JSON format. The dataset used was initially in a JSON dictionary format and for our methodology, we limited our scope to the contents of the <code>201700.json</code> file. We extracted these files using Pyspark database API to filter each image’s ID Number, Tags, and Categories per Tag and converted this into a Pandas DataFrame which we dumped into a pickle file for faster access. Becuase of the use of PySpark, it is possible to upscale this project in the future using the whole dataset with the use of PySpark. This significantly reduced the amount of data, thus making it more manageable.</di>"
   ]
  },
  {
   "cell_type": "code",
   "execution_count": 5,
   "id": "f8db383c-71a3-4a78-a6e3-24c3205a0c5f",
   "metadata": {
    "execution": {
     "iopub.execute_input": "2022-02-11T14:28:49.272580Z",
     "iopub.status.busy": "2022-02-11T14:28:49.272415Z",
     "iopub.status.idle": "2022-02-11T14:28:49.286300Z",
     "shell.execute_reply": "2022-02-11T14:28:49.285728Z",
     "shell.execute_reply.started": "2022-02-11T14:28:49.272560Z"
    }
   },
   "outputs": [
    {
     "data": {
      "text/html": [
       "<div>\n",
       "<style scoped>\n",
       "    .dataframe tbody tr th:only-of-type {\n",
       "        vertical-align: middle;\n",
       "    }\n",
       "\n",
       "    .dataframe tbody tr th {\n",
       "        vertical-align: top;\n",
       "    }\n",
       "\n",
       "    .dataframe thead th {\n",
       "        text-align: right;\n",
       "    }\n",
       "</style>\n",
       "<table border=\"1\" class=\"dataframe\">\n",
       "  <thead>\n",
       "    <tr style=\"text-align: right;\">\n",
       "      <th></th>\n",
       "      <th>id</th>\n",
       "      <th>tag</th>\n",
       "      <th>cat</th>\n",
       "    </tr>\n",
       "  </thead>\n",
       "  <tbody>\n",
       "    <tr>\n",
       "      <th>0</th>\n",
       "      <td>1000040</td>\n",
       "      <td>[1boy, aqua_eyes, bad_id, bad_pixiv_id, dress,...</td>\n",
       "      <td>[0, 0, 5, 5, 0, 1, 0, 0, 0, 0, 0, 0, 0, 0, 0, ...</td>\n",
       "    </tr>\n",
       "    <tr>\n",
       "      <th>1</th>\n",
       "      <td>100007</td>\n",
       "      <td>[1boy, 1girl, arm_holding, ass, bed, bedroom, ...</td>\n",
       "      <td>[0, 0, 0, 0, 0, 0, 0, 0, 0, 0, 0, 0, 0, 5, 0, ...</td>\n",
       "    </tr>\n",
       "    <tr>\n",
       "      <th>2</th>\n",
       "      <td>1000070</td>\n",
       "      <td>[1girl, brown_hair, flower, grey_eyes, japanes...</td>\n",
       "      <td>[0, 0, 0, 0, 0, 0, 0, 0, 1, 0, 0, 3, 0, 0, 0, 0]</td>\n",
       "    </tr>\n",
       "    <tr>\n",
       "      <th>3</th>\n",
       "      <td>1000077</td>\n",
       "      <td>[1boy, 2girls, comic, glowing, kaburagi_kaede,...</td>\n",
       "      <td>[0, 0, 0, 0, 4, 4, 0, 1, 5, 4, 0, 3, 5]</td>\n",
       "    </tr>\n",
       "    <tr>\n",
       "      <th>4</th>\n",
       "      <td>1000080</td>\n",
       "      <td>[1boy, 1girl, comic, fire, fire_emblem_(tiger_...</td>\n",
       "      <td>[0, 0, 0, 0, 4, 0, 4, 4, 1, 5, 4, 0, 0, 3, 5]</td>\n",
       "    </tr>\n",
       "  </tbody>\n",
       "</table>\n",
       "</div>"
      ],
      "text/plain": [
       "        id                                                tag  \\\n",
       "0  1000040  [1boy, aqua_eyes, bad_id, bad_pixiv_id, dress,...   \n",
       "1   100007  [1boy, 1girl, arm_holding, ass, bed, bedroom, ...   \n",
       "2  1000070  [1girl, brown_hair, flower, grey_eyes, japanes...   \n",
       "3  1000077  [1boy, 2girls, comic, glowing, kaburagi_kaede,...   \n",
       "4  1000080  [1boy, 1girl, comic, fire, fire_emblem_(tiger_...   \n",
       "\n",
       "                                                 cat  \n",
       "0  [0, 0, 5, 5, 0, 1, 0, 0, 0, 0, 0, 0, 0, 0, 0, ...  \n",
       "1  [0, 0, 0, 0, 0, 0, 0, 0, 0, 0, 0, 0, 0, 5, 0, ...  \n",
       "2   [0, 0, 0, 0, 0, 0, 0, 0, 1, 0, 0, 3, 0, 0, 0, 0]  \n",
       "3            [0, 0, 0, 0, 4, 4, 0, 1, 5, 4, 0, 3, 5]  \n",
       "4      [0, 0, 0, 0, 4, 0, 4, 4, 1, 5, 4, 0, 0, 3, 5]  "
      ]
     },
     "metadata": {},
     "output_type": "display_data"
    }
   ],
   "source": [
    "# extract_dataset()\n",
    "data = load_dataset()\n",
    "display(data.head())"
   ]
  },
  {
   "cell_type": "markdown",
   "id": "793d90f4-2410-461c-9fa6-271f034b3551",
   "metadata": {},
   "source": [
    "## 7. Exploratory Data Analysis"
   ]
  },
  {
   "cell_type": "markdown",
   "id": "585136a2-459d-4297-9ead-378b48edab9f",
   "metadata": {},
   "source": [
    "### 1. Descriptive Analysis on Tags\n",
    "\n",
    "<div style='text-align: justify'>Exploring the dataset, we see that there are 174158 unique images with an average 26 tags per image. In total, we observe 4562147 total tags in the dataset. Therefore, for the recommendations to be viable in terms of runtime and interpretability, the dataset should be filtered. </div>"
   ]
  },
  {
   "cell_type": "code",
   "execution_count": 7,
   "id": "c3921dc3-8523-4af4-9e2f-de2820749e56",
   "metadata": {
    "execution": {
     "iopub.execute_input": "2022-02-11T14:28:49.367188Z",
     "iopub.status.busy": "2022-02-11T14:28:49.366709Z",
     "iopub.status.idle": "2022-02-11T14:28:49.426370Z",
     "shell.execute_reply": "2022-02-11T14:28:49.425780Z",
     "shell.execute_reply.started": "2022-02-11T14:28:49.367129Z"
    }
   },
   "outputs": [
    {
     "data": {
      "text/plain": [
       "174158"
      ]
     },
     "execution_count": 7,
     "metadata": {},
     "output_type": "execute_result"
    }
   ],
   "source": [
    "data['id'].nunique()"
   ]
  },
  {
   "cell_type": "code",
   "execution_count": 24,
   "id": "9b9a93b3-449f-4607-8611-74220b591b7f",
   "metadata": {
    "execution": {
     "iopub.execute_input": "2022-02-12T04:51:19.164912Z",
     "iopub.status.busy": "2022-02-12T04:51:19.164339Z",
     "iopub.status.idle": "2022-02-12T04:51:19.238236Z",
     "shell.execute_reply": "2022-02-12T04:51:19.237118Z",
     "shell.execute_reply.started": "2022-02-12T04:51:19.164850Z"
    },
    "tags": []
   },
   "outputs": [
    {
     "data": {
      "text/plain": [
       "26.2"
      ]
     },
     "execution_count": 24,
     "metadata": {},
     "output_type": "execute_result"
    }
   ],
   "source": [
    "round(data['tag'].apply(len).mean(), 2)"
   ]
  },
  {
   "cell_type": "code",
   "execution_count": 10,
   "id": "e4428c0f-8944-4a25-a7de-617ebf453c03",
   "metadata": {
    "execution": {
     "iopub.execute_input": "2022-02-11T14:28:50.563207Z",
     "iopub.status.busy": "2022-02-11T14:28:50.562534Z",
     "iopub.status.idle": "2022-02-11T14:28:50.752876Z",
     "shell.execute_reply": "2022-02-11T14:28:50.752193Z",
     "shell.execute_reply.started": "2022-02-11T14:28:50.563135Z"
    }
   },
   "outputs": [
    {
     "data": {
      "text/plain": [
       "4562147"
      ]
     },
     "execution_count": 10,
     "metadata": {},
     "output_type": "execute_result"
    }
   ],
   "source": [
    "len(data['tag'].explode())"
   ]
  },
  {
   "cell_type": "markdown",
   "id": "d6a7a567-e215-4e61-aebe-9fff1939f772",
   "metadata": {},
   "source": [
    "### 2. Distribution of Tags\n",
    "\n",
    "<div style='text-align: justify'>The top 10 most frequent tags are displayed below. The website is explicit in nature. Based on the top tags, it is inferred that a majority of the dataset is associated with female characters. However, this was expected due to the nature and culture surrounding this form of media.</div>"
   ]
  },
  {
   "cell_type": "code",
   "execution_count": 9,
   "id": "66b9f155-b3a6-4c63-8c6b-fb1476ca0588",
   "metadata": {
    "execution": {
     "iopub.execute_input": "2022-02-11T14:28:49.496930Z",
     "iopub.status.busy": "2022-02-11T14:28:49.496750Z",
     "iopub.status.idle": "2022-02-11T14:28:50.560303Z",
     "shell.execute_reply": "2022-02-11T14:28:50.558998Z",
     "shell.execute_reply.started": "2022-02-11T14:28:49.496910Z"
    }
   },
   "outputs": [
    {
     "data": {
      "image/png": "[encoded data removed]",
      "text/plain": [
       "<Figure size 720x432 with 1 Axes>"
      ]
     },
     "metadata": {
      "needs_background": "light"
     },
     "output_type": "display_data"
    }
   ],
   "source": [
    "top10_tag_dist(data)"
   ]
  },
  {
   "cell_type": "markdown",
   "id": "083ec93a-48fc-4849-9fde-4ecf1c902497",
   "metadata": {},
   "source": [
    "<div style='text-align: center'><b>Figure 2.</b> Content on Danbooru is concentrated on female characters.</div>"
   ]
  },
  {
   "cell_type": "markdown",
   "id": "6a88adc1-5445-4e75-897c-0e723b5ab60d",
   "metadata": {},
   "source": [
    "### 3. Distribution of Tags per Category\n",
    "\n",
    "<div style='text-align: justify'>The distribution of tags are seen below. We see that <code>general</code> tags have the highest frequency in the dataset. They typically refer to the design traits of an image with <code>character</code> tags such as eye and hair color. Meanwhile, the remaining tags are more or less have similar frequencies.</div>"
   ]
  },
  {
   "cell_type": "code",
   "execution_count": 11,
   "id": "3df88af7-2161-4112-a037-b595818d3c14",
   "metadata": {
    "execution": {
     "iopub.execute_input": "2022-02-11T14:28:50.754103Z",
     "iopub.status.busy": "2022-02-11T14:28:50.753828Z",
     "iopub.status.idle": "2022-02-11T14:28:51.168138Z",
     "shell.execute_reply": "2022-02-11T14:28:51.166878Z",
     "shell.execute_reply.started": "2022-02-11T14:28:50.754081Z"
    },
    "tags": []
   },
   "outputs": [
    {
     "data": {
      "image/png": "[encoded data removed]",
      "text/plain": [
       "<Figure size 720x432 with 1 Axes>"
      ]
     },
     "metadata": {
      "needs_background": "light"
     },
     "output_type": "display_data"
    }
   ],
   "source": [
    "category_dist(data)"
   ]
  },
  {
   "cell_type": "markdown",
   "id": "98bba305-8e80-49ee-981a-e455ac15dea2",
   "metadata": {},
   "source": [
    "<div style='text-align: center'><b>Figure 3.</b> Most of the tags in the dataset are classified as <code>general</code>.</div>"
   ]
  },
  {
   "cell_type": "markdown",
   "id": "35b9d314-77e2-4866-8866-cb39b3596c20",
   "metadata": {},
   "source": [
    "### 4. Distribution of Images per Tag Category\n",
    "\n",
    "<div style='text-align: justify'>Here we see that images almost have a uniform distribution of tag use by category. This means we expect that most images will have every single kind of tag but most especially the <code>general</code> and <code>copyrights</code> category of tags.</div>"
   ]
  },
  {
   "cell_type": "code",
   "execution_count": 12,
   "id": "401e66e6-cf68-4d86-bd04-946839beee72",
   "metadata": {
    "execution": {
     "iopub.execute_input": "2022-02-11T14:28:51.169283Z",
     "iopub.status.busy": "2022-02-11T14:28:51.168992Z",
     "iopub.status.idle": "2022-02-11T14:28:51.892854Z",
     "shell.execute_reply": "2022-02-11T14:28:51.892139Z",
     "shell.execute_reply.started": "2022-02-11T14:28:51.169264Z"
    },
    "tags": []
   },
   "outputs": [
    {
     "data": {
      "image/png": "[encoded data removed]",
      "text/plain": [
       "<Figure size 720x432 with 1 Axes>"
      ]
     },
     "metadata": {
      "needs_background": "light"
     },
     "output_type": "display_data"
    }
   ],
   "source": [
    "img_category_dist(data)"
   ]
  },
  {
   "cell_type": "markdown",
   "id": "2b754460-7556-45ef-b896-fc7631d5f029",
   "metadata": {},
   "source": [
    "<div style='text-align: center'><b>Figure 4.</b> Images have an almost uniform distribution of tag category usage.</div>"
   ]
  },
  {
   "cell_type": "markdown",
   "id": "c2427ead-e00e-4cd3-9b1c-97a51c3a0128",
   "metadata": {
    "tags": []
   },
   "source": [
    "## 8. Association Pattern Mining\n",
    "\n",
    "<div style='text-align: justify'>Association Pattern Mining is an unsupervised method of finding frequent patterns, associations, and correlations among itemsets of transactions. Using the pyFIM module and the association rules method, we propose a new method of determining related tags specifically for characters that does not rely on cosine similarity. We first created a dictionary of all tags based on their category. In this way, we can filter the tags referring to character tags only. The reason for using character tags is that character designs will have some form of ground truth. An example would be <code>Hatsune_Miku</code> having some form of blue hair and blue eyes. Therefore, we would expect that a majority of the tags that are associated to Hatsune Miku would be <code>blue_hair</code> and <code>blue_eyes</code>. In this way, we can build a case that for character tags, most of their tags, and specifically <code>general</code> tags, would be design-related and are usually true to that character.</div>"
   ]
  },
  {
   "cell_type": "code",
   "execution_count": 13,
   "id": "d19aceff-ffee-4326-91f7-517263e9d23a",
   "metadata": {
    "execution": {
     "iopub.execute_input": "2022-02-11T14:28:51.894985Z",
     "iopub.status.busy": "2022-02-11T14:28:51.894677Z",
     "iopub.status.idle": "2022-02-11T14:28:54.591880Z",
     "shell.execute_reply": "2022-02-11T14:28:54.591068Z",
     "shell.execute_reply.started": "2022-02-11T14:28:51.894966Z"
    },
    "tags": []
   },
   "outputs": [
    {
     "data": {
      "text/plain": [
       "cat\n",
       "0    [!, !!, !!?, !?, !?!, !_block, (-3-), (6), (9)...\n",
       "1    [#104, #13, 'o'ne, ((((yuu)))), (stag), (ysy)s...\n",
       "3    [#compass, &_love, '&'_-sora_no_mukou_de_sakim...\n",
       "4    [(armor), 00_gundam, 00_qan[t], 00_raiser, 0_g...\n",
       "5    [3rd_party_watermark, absurdres, alpha_transpa...\n",
       "Name: tag, dtype: object"
      ]
     },
     "metadata": {},
     "output_type": "display_data"
    }
   ],
   "source": [
    "cat_dict = category_dict(data)\n",
    "display(cat_dict)"
   ]
  },
  {
   "cell_type": "markdown",
   "id": "0bd8c11c-94de-44bd-aec2-6896666a0b67",
   "metadata": {},
   "source": [
    "<div style='text-align: justify'>Then, the frequency distribution of tags for each character was tallied then arranged in descending order. In this way, we can determine which ranges of character tags frequencies would benefit the most for using Association Pattern Mining rather than building from scratch the tags with Convolutional Neural Netowrks (CNNs) or would expected to have mostly character design traits as tags. This also determines which tags generated would be most useful as related tags as these would be the ones that show up most often with other tags rather than based on the cosine similarity of the text of the tags. <br><br> \n",
    "Popular characters would be sufficiently tagged with many of them having tag counts of 2000 or more and characters with only 1 tag would not have related tags to form associations so these ones specifically would need the use of some image detection algorithm such as CNNs. Therefore, the sweet spot of those that can be used with this methodology is determined using the histogram as the cutoff.</div>"
   ]
  },
  {
   "cell_type": "code",
   "execution_count": 14,
   "id": "7452a698-a447-4281-a3e9-d8ee0d021243",
   "metadata": {
    "execution": {
     "iopub.execute_input": "2022-02-11T14:28:54.593423Z",
     "iopub.status.busy": "2022-02-11T14:28:54.593073Z",
     "iopub.status.idle": "2022-02-11T14:28:56.438809Z",
     "shell.execute_reply": "2022-02-11T14:28:56.438044Z",
     "shell.execute_reply.started": "2022-02-11T14:28:54.593398Z"
    },
    "tags": []
   },
   "outputs": [
    {
     "data": {
      "text/html": [
       "<div>\n",
       "<style scoped>\n",
       "    .dataframe tbody tr th:only-of-type {\n",
       "        vertical-align: middle;\n",
       "    }\n",
       "\n",
       "    .dataframe tbody tr th {\n",
       "        vertical-align: top;\n",
       "    }\n",
       "\n",
       "    .dataframe thead th {\n",
       "        text-align: right;\n",
       "    }\n",
       "</style>\n",
       "<table border=\"1\" class=\"dataframe\">\n",
       "  <thead>\n",
       "    <tr style=\"text-align: right;\">\n",
       "      <th></th>\n",
       "      <th>char</th>\n",
       "      <th>tag</th>\n",
       "    </tr>\n",
       "  </thead>\n",
       "  <tbody>\n",
       "    <tr>\n",
       "      <th>0</th>\n",
       "      <td>hatsune_miku</td>\n",
       "      <td>3228</td>\n",
       "    </tr>\n",
       "    <tr>\n",
       "      <th>1</th>\n",
       "      <td>hakurei_reimu</td>\n",
       "      <td>3060</td>\n",
       "    </tr>\n",
       "    <tr>\n",
       "      <th>2</th>\n",
       "      <td>kirisame_marisa</td>\n",
       "      <td>2879</td>\n",
       "    </tr>\n",
       "    <tr>\n",
       "      <th>3</th>\n",
       "      <td>remilia_scarlet</td>\n",
       "      <td>2137</td>\n",
       "    </tr>\n",
       "    <tr>\n",
       "      <th>4</th>\n",
       "      <td>izayoi_sakuya</td>\n",
       "      <td>2059</td>\n",
       "    </tr>\n",
       "    <tr>\n",
       "      <th>...</th>\n",
       "      <td>...</td>\n",
       "      <td>...</td>\n",
       "    </tr>\n",
       "    <tr>\n",
       "      <th>34487</th>\n",
       "      <td>furret</td>\n",
       "      <td>1</td>\n",
       "    </tr>\n",
       "    <tr>\n",
       "      <th>34488</th>\n",
       "      <td>yhwach</td>\n",
       "      <td>1</td>\n",
       "    </tr>\n",
       "    <tr>\n",
       "      <th>34489</th>\n",
       "      <td>shiki_reika</td>\n",
       "      <td>1</td>\n",
       "    </tr>\n",
       "    <tr>\n",
       "      <th>34490</th>\n",
       "      <td>inari_(sennen_sensou_aigis)</td>\n",
       "      <td>1</td>\n",
       "    </tr>\n",
       "    <tr>\n",
       "      <th>34491</th>\n",
       "      <td>tachibana_mihoshi</td>\n",
       "      <td>1</td>\n",
       "    </tr>\n",
       "  </tbody>\n",
       "</table>\n",
       "<p>34492 rows × 2 columns</p>\n",
       "</div>"
      ],
      "text/plain": [
       "                              char   tag\n",
       "0                     hatsune_miku  3228\n",
       "1                    hakurei_reimu  3060\n",
       "2                  kirisame_marisa  2879\n",
       "3                  remilia_scarlet  2137\n",
       "4                    izayoi_sakuya  2059\n",
       "...                            ...   ...\n",
       "34487                       furret     1\n",
       "34488                       yhwach     1\n",
       "34489                  shiki_reika     1\n",
       "34490  inari_(sennen_sensou_aigis)     1\n",
       "34491            tachibana_mihoshi     1\n",
       "\n",
       "[34492 rows x 2 columns]"
      ]
     },
     "metadata": {},
     "output_type": "display_data"
    }
   ],
   "source": [
    "character_dist = char_dist(data)\n",
    "display(character_dist)"
   ]
  },
  {
   "cell_type": "markdown",
   "id": "22e62dcd-ebac-4a73-a218-22f0a8a6e88a",
   "metadata": {},
   "source": [
    "<div style='text-align: justify'>The distribution of the frequency of characters with their count of tags is displayed below as a histogram. For the proposed new methodology of determining related tags, we identified a sample of characters with tags ranging around <b>70 tags</b>, as those who have enough tags to perform some sort of association but not enough tags that they would still need some improvement for the related tags.</div>"
   ]
  },
  {
   "cell_type": "code",
   "execution_count": 15,
   "id": "2ec1529c-2d3a-42d2-9b81-622b3969fae8",
   "metadata": {
    "execution": {
     "iopub.execute_input": "2022-02-11T14:28:56.440239Z",
     "iopub.status.busy": "2022-02-11T14:28:56.439906Z",
     "iopub.status.idle": "2022-02-11T14:28:56.995956Z",
     "shell.execute_reply": "2022-02-11T14:28:56.994954Z",
     "shell.execute_reply.started": "2022-02-11T14:28:56.440214Z"
    },
    "tags": []
   },
   "outputs": [
    {
     "data": {
      "image/png": "[encoded data removed]",
      "text/plain": [
       "<Figure size 720x432 with 1 Axes>"
      ]
     },
     "metadata": {
      "needs_background": "light"
     },
     "output_type": "display_data"
    }
   ],
   "source": [
    "dist_tags_per_char(character_dist)"
   ]
  },
  {
   "cell_type": "markdown",
   "id": "4474e228-2cc4-47a4-9a6c-40af939ee523",
   "metadata": {
    "execution": {
     "iopub.execute_input": "2022-02-11T14:27:21.932155Z",
     "iopub.status.busy": "2022-02-11T14:27:21.931415Z",
     "iopub.status.idle": "2022-02-11T14:27:22.053060Z",
     "shell.execute_reply": "2022-02-11T14:27:22.052191Z",
     "shell.execute_reply.started": "2022-02-11T14:27:21.932076Z"
    }
   },
   "source": [
    "<div style='text-align: center'><b>Figure 5.</b> Distribution of tags of characters. More popular characters have more tags than those ones that are more obscure.</div>"
   ]
  },
  {
   "cell_type": "markdown",
   "id": "8330da5c-ed73-4753-8d88-035cea801926",
   "metadata": {
    "execution": {
     "iopub.execute_input": "2022-02-12T05:31:46.992104Z",
     "iopub.status.busy": "2022-02-12T05:31:46.991204Z",
     "iopub.status.idle": "2022-02-12T05:31:47.005265Z",
     "shell.execute_reply": "2022-02-12T05:31:47.003561Z",
     "shell.execute_reply.started": "2022-02-12T05:31:46.992039Z"
    }
   },
   "source": [
    "<div style='text-align: justify'>Using character tags as the antecedent, we determine the tags most associated with the character tags based on their confidence and lift. We use five of the most frequent character tags, namely, <code>hatsune_miku</code>, <code>hakurei_reimu</code>, <code>kirisame_marisa</code>, <code>remilia_scarlet</code>, and <code>izayoi_sakuya</code>. For our use case, we then selected what we would consider under tagged characters, namely five low frequency character tags: <code>enemy_aircraft_(kantai_collection)</code>, <code>caster_(fate/zero)</code>, <code>mordred_(fate)</code>, <code>kamio_misuzu</code> and <code>yui_(angel_beats!)</code>. In this case, these would be at around the 73 tags. This tag frequency is also the basis of the relative support value of 0.20 that was used for all charcaters. The standard number of related tags in Danbooru is 25. A relative support too large will cut off the needed 25 related tags while a cutoff too low will result in a slower processing time.</div>"
   ]
  },
  {
   "cell_type": "code",
   "execution_count": 16,
   "id": "3ece9325-5157-4ff0-afcd-b3a6a767cfbc",
   "metadata": {
    "execution": {
     "iopub.execute_input": "2022-02-11T14:28:56.997267Z",
     "iopub.status.busy": "2022-02-11T14:28:56.996957Z",
     "iopub.status.idle": "2022-02-11T14:28:59.505417Z",
     "shell.execute_reply": "2022-02-11T14:28:59.504723Z",
     "shell.execute_reply.started": "2022-02-11T14:28:56.997244Z"
    },
    "tags": []
   },
   "outputs": [
    {
     "data": {
      "text/html": [
       "<div>\n",
       "<style scoped>\n",
       "    .dataframe tbody tr th:only-of-type {\n",
       "        vertical-align: middle;\n",
       "    }\n",
       "\n",
       "    .dataframe tbody tr th {\n",
       "        vertical-align: top;\n",
       "    }\n",
       "\n",
       "    .dataframe thead th {\n",
       "        text-align: right;\n",
       "    }\n",
       "</style>\n",
       "<table border=\"1\" class=\"dataframe\">\n",
       "  <thead>\n",
       "    <tr style=\"text-align: right;\">\n",
       "      <th></th>\n",
       "      <th>tag</th>\n",
       "      <th>related_tags</th>\n",
       "      <th>scraped_tags</th>\n",
       "      <th>similarity</th>\n",
       "    </tr>\n",
       "    <tr>\n",
       "      <th>char</th>\n",
       "      <th></th>\n",
       "      <th></th>\n",
       "      <th></th>\n",
       "      <th></th>\n",
       "    </tr>\n",
       "  </thead>\n",
       "  <tbody>\n",
       "    <tr>\n",
       "      <th>hatsune_miku</th>\n",
       "      <td>3228</td>\n",
       "      <td>{thighhighs, 1girl, highres, blue_eyes, bad_pi...</td>\n",
       "      <td>{thighhighs, 1girl, kagamine_len, megurine_luk...</td>\n",
       "      <td>0.333333</td>\n",
       "    </tr>\n",
       "    <tr>\n",
       "      <th>hakurei_reimu</th>\n",
       "      <td>3060</td>\n",
       "      <td>{red_eyes, ribbon, 2girls, hat, kirisame_maris...</td>\n",
       "      <td>{yellow_ascot, frilled_hair_tubes, hakurei_rei...</td>\n",
       "      <td>0.190476</td>\n",
       "    </tr>\n",
       "    <tr>\n",
       "      <th>kirisame_marisa</th>\n",
       "      <td>2879</td>\n",
       "      <td>{ribbon, 2girls, hat, short_hair, hakurei_reim...</td>\n",
       "      <td>{hat, hat_bow, kirisame_marisa, hakurei_reimu,...</td>\n",
       "      <td>0.315789</td>\n",
       "    </tr>\n",
       "    <tr>\n",
       "      <th>remilia_scarlet</th>\n",
       "      <td>2137</td>\n",
       "      <td>{blue_hair, red_eyes, ribbon, 2girls, hat, sho...</td>\n",
       "      <td>{koakuma, blue_hair, red_eyes, remilia_scarlet...</td>\n",
       "      <td>0.256410</td>\n",
       "    </tr>\n",
       "    <tr>\n",
       "      <th>izayoi_sakuya</th>\n",
       "      <td>2059</td>\n",
       "      <td>{red_eyes, remilia_scarlet, ribbon, 2girls, ha...</td>\n",
       "      <td>{koakuma, remilia_scarlet, kirisame_marisa, 6+...</td>\n",
       "      <td>0.315789</td>\n",
       "    </tr>\n",
       "    <tr>\n",
       "      <th>enemy_aircraft_(kantai_collection)</th>\n",
       "      <td>73</td>\n",
       "      <td>{red_eyes, 2girls, shinkaisei-kan, hat, horns,...</td>\n",
       "      <td>{midway_princess, aircraft, turret, colored_sk...</td>\n",
       "      <td>0.086957</td>\n",
       "    </tr>\n",
       "    <tr>\n",
       "      <th>caster_(fate/zero)</th>\n",
       "      <td>73</td>\n",
       "      <td>{assassin_(fate/zero), 6+boys, berserker_(fate...</td>\n",
       "      <td>{assassin_(fate/zero), berserker_(fate/zero), ...</td>\n",
       "      <td>0.162791</td>\n",
       "    </tr>\n",
       "    <tr>\n",
       "      <th>mordred_(fate)</th>\n",
       "      <td>73</td>\n",
       "      <td>{breasts, looking_at_viewer, cleavage, short_h...</td>\n",
       "      <td>{hair_scrunchie, artoria_pendragon_(lancer)_(f...</td>\n",
       "      <td>0.136364</td>\n",
       "    </tr>\n",
       "    <tr>\n",
       "      <th>kamio_misuzu</th>\n",
       "      <td>73</td>\n",
       "      <td>{blue_eyes, long_hair, ribbon, school_uniform,...</td>\n",
       "      <td>{hinokami_sakura, kanon, natsume_rin, key_(com...</td>\n",
       "      <td>0.028571</td>\n",
       "    </tr>\n",
       "    <tr>\n",
       "      <th>yui_(angel_beats!)</th>\n",
       "      <td>73</td>\n",
       "      <td>{blue_hair, tail, pink_hair, short_hair, angel...</td>\n",
       "      <td>{takeyama_(angel_beats!), angel_beats!, ooyama...</td>\n",
       "      <td>0.069767</td>\n",
       "    </tr>\n",
       "  </tbody>\n",
       "</table>\n",
       "</div>"
      ],
      "text/plain": [
       "                                     tag  \\\n",
       "char                                       \n",
       "hatsune_miku                        3228   \n",
       "hakurei_reimu                       3060   \n",
       "kirisame_marisa                     2879   \n",
       "remilia_scarlet                     2137   \n",
       "izayoi_sakuya                       2059   \n",
       "enemy_aircraft_(kantai_collection)    73   \n",
       "caster_(fate/zero)                    73   \n",
       "mordred_(fate)                        73   \n",
       "kamio_misuzu                          73   \n",
       "yui_(angel_beats!)                    73   \n",
       "\n",
       "                                                                         related_tags  \\\n",
       "char                                                                                    \n",
       "hatsune_miku                        {thighhighs, 1girl, highres, blue_eyes, bad_pi...   \n",
       "hakurei_reimu                       {red_eyes, ribbon, 2girls, hat, kirisame_maris...   \n",
       "kirisame_marisa                     {ribbon, 2girls, hat, short_hair, hakurei_reim...   \n",
       "remilia_scarlet                     {blue_hair, red_eyes, ribbon, 2girls, hat, sho...   \n",
       "izayoi_sakuya                       {red_eyes, remilia_scarlet, ribbon, 2girls, ha...   \n",
       "enemy_aircraft_(kantai_collection)  {red_eyes, 2girls, shinkaisei-kan, hat, horns,...   \n",
       "caster_(fate/zero)                  {assassin_(fate/zero), 6+boys, berserker_(fate...   \n",
       "mordred_(fate)                      {breasts, looking_at_viewer, cleavage, short_h...   \n",
       "kamio_misuzu                        {blue_eyes, long_hair, ribbon, school_uniform,...   \n",
       "yui_(angel_beats!)                  {blue_hair, tail, pink_hair, short_hair, angel...   \n",
       "\n",
       "                                                                         scraped_tags  \\\n",
       "char                                                                                    \n",
       "hatsune_miku                        {thighhighs, 1girl, kagamine_len, megurine_luk...   \n",
       "hakurei_reimu                       {yellow_ascot, frilled_hair_tubes, hakurei_rei...   \n",
       "kirisame_marisa                     {hat, hat_bow, kirisame_marisa, hakurei_reimu,...   \n",
       "remilia_scarlet                     {koakuma, blue_hair, red_eyes, remilia_scarlet...   \n",
       "izayoi_sakuya                       {koakuma, remilia_scarlet, kirisame_marisa, 6+...   \n",
       "enemy_aircraft_(kantai_collection)  {midway_princess, aircraft, turret, colored_sk...   \n",
       "caster_(fate/zero)                  {assassin_(fate/zero), berserker_(fate/zero), ...   \n",
       "mordred_(fate)                      {hair_scrunchie, artoria_pendragon_(lancer)_(f...   \n",
       "kamio_misuzu                        {hinokami_sakura, kanon, natsume_rin, key_(com...   \n",
       "yui_(angel_beats!)                  {takeyama_(angel_beats!), angel_beats!, ooyama...   \n",
       "\n",
       "                                    similarity  \n",
       "char                                            \n",
       "hatsune_miku                          0.333333  \n",
       "hakurei_reimu                         0.190476  \n",
       "kirisame_marisa                       0.315789  \n",
       "remilia_scarlet                       0.256410  \n",
       "izayoi_sakuya                         0.315789  \n",
       "enemy_aircraft_(kantai_collection)    0.086957  \n",
       "caster_(fate/zero)                    0.162791  \n",
       "mordred_(fate)                        0.136364  \n",
       "kamio_misuzu                          0.028571  \n",
       "yui_(angel_beats!)                    0.069767  "
      ]
     },
     "metadata": {},
     "output_type": "display_data"
    }
   ],
   "source": [
    "# scrape_tags()\n",
    "df_test = related_vs_scraped(data, character_dist, load_scraped_tags())\n",
    "display(df_test)"
   ]
  },
  {
   "cell_type": "markdown",
   "id": "e2f35b63-1299-454a-a162-607c7d57501a",
   "metadata": {},
   "source": [
    "<div style='text-align: justify'>This dataframe above was built as follows:\n",
    "\n",
    "1. For each character tag, the associated frequency of tags is also displayed to determine if it is a popular or less popoular character. This determines if the selection of ranges of tag frequency that would benefit the most from. using Association Pattern Mining.\n",
    "2. Next, the top 25 related tags from the dataset was determined using the association rules' confidence and to an extent, lift. These will be used to compare to the actual tags on the website. With the character as the antecedent, we see which tags or groups of tags would be the consequent.\n",
    "3. The 25 related tags for that character tag were determined by <em>scraping</em> the Danbooru website. This is important because it allows for the comparison of their current practice of using cosine similarity <em>between tags</em> rather than the patterns/associations between the tags.\n",
    "4. Lastly, the Jaccard similarity of the related and scraped tags were determined. The higher the similarity value, the more the scraped tags were similar to the related tags.\n",
    "\n",
    "The Jaccard similarity is calculated to see the helpfulness of the related tags on the website. Assuming that a character's related tags should mainly consist of their design traits, the related tags for character should also be mostly made up of general tags corresponding to this such as the example of Hatsune Miku having blue eyes and hair. In this way, these related tags would be more helpful. These general tags are what was determined from the dataset using Association Pattern Mining. So the closer the values of the scraped tags are to the related tags, the more helpful the related tags are.</div>"
   ]
  },
  {
   "cell_type": "markdown",
   "id": "85f9f205-df42-48d2-a7ec-aa0609769e93",
   "metadata": {},
   "source": [
    "## 9. Results and Discussion"
   ]
  },
  {
   "cell_type": "markdown",
   "id": "2c4fe366-4a7f-4ce5-bcf9-86db92e084f6",
   "metadata": {},
   "source": [
    "<div style='text-align: justify'>Below is a snapshot of the Danbooru website and how related tags are displayed. In this case, this is for the <code>Hatsune_Miku</code> character tag. The results for each character would be displayed in the same manner if the recommended associated tags were used by Danbooru.<br></div>"
   ]
  },
  {
   "cell_type": "markdown",
   "id": "0f51b21f-c399-479a-9db7-fd86138df4fc",
   "metadata": {},
   "source": [
    "<img src=\"images/danbooru_related.png\" class=\"center\" />"
   ]
  },
  {
   "cell_type": "code",
   "execution_count": 30,
   "id": "0b3f92d6-ece1-4e6d-a54d-5c115f0d80a6",
   "metadata": {
    "execution": {
     "iopub.execute_input": "2022-02-12T06:41:30.290828Z",
     "iopub.status.busy": "2022-02-12T06:41:30.290269Z",
     "iopub.status.idle": "2022-02-12T06:41:30.307728Z",
     "shell.execute_reply": "2022-02-12T06:41:30.306760Z",
     "shell.execute_reply.started": "2022-02-12T06:41:30.290767Z"
    }
   },
   "outputs": [
    {
     "data": {
      "text/plain": [
       "char\n",
       "hatsune_miku                          {thighhighs, 1girl, highres, blue_eyes, bad_pi...\n",
       "hakurei_reimu                         {red_eyes, ribbon, 2girls, hat, kirisame_maris...\n",
       "kirisame_marisa                       {ribbon, 2girls, hat, short_hair, hakurei_reim...\n",
       "remilia_scarlet                       {blue_hair, red_eyes, ribbon, 2girls, hat, sho...\n",
       "izayoi_sakuya                         {red_eyes, remilia_scarlet, ribbon, 2girls, ha...\n",
       "enemy_aircraft_(kantai_collection)    {red_eyes, 2girls, shinkaisei-kan, hat, horns,...\n",
       "caster_(fate/zero)                    {assassin_(fate/zero), 6+boys, berserker_(fate...\n",
       "mordred_(fate)                        {breasts, looking_at_viewer, cleavage, short_h...\n",
       "kamio_misuzu                          {blue_eyes, long_hair, ribbon, school_uniform,...\n",
       "yui_(angel_beats!)                    {blue_hair, tail, pink_hair, short_hair, angel...\n",
       "Name: related_tags, dtype: object"
      ]
     },
     "metadata": {},
     "output_type": "display_data"
    }
   ],
   "source": [
    "display(df_test['related_tags'])"
   ]
  },
  {
   "cell_type": "markdown",
   "id": "f77b5bd9-4b59-4a24-8121-135010c6b40d",
   "metadata": {},
   "source": [
    "<div style='text-align: justify'>From the series above, we see that the tags associated with characters are mostly comprised of <code>general</code> tags. These would be the most helpful for visitors on the website to select related tags to a certain character. With mainly their design features highlighted, this is also a more intuitive approach to determining related tags rather than based on text similarity. We can also recommend to Danbooru that the sorting of the tags can be based on confidence or lift rather than just pure frequency which is what is currently used.</div>"
   ]
  },
  {
   "cell_type": "code",
   "execution_count": 17,
   "id": "f1770d67-eb2d-4900-a18a-9a929cd279dc",
   "metadata": {
    "execution": {
     "iopub.execute_input": "2022-02-11T14:28:59.506834Z",
     "iopub.status.busy": "2022-02-11T14:28:59.506372Z",
     "iopub.status.idle": "2022-02-11T14:28:59.685974Z",
     "shell.execute_reply": "2022-02-11T14:28:59.685224Z",
     "shell.execute_reply.started": "2022-02-11T14:28:59.506812Z"
    }
   },
   "outputs": [
    {
     "data": {
      "image/png": "[encoded data removed]",
      "text/plain": [
       "<Figure size 864x432 with 1 Axes>"
      ]
     },
     "metadata": {
      "needs_background": "light"
     },
     "output_type": "display_data"
    }
   ],
   "source": [
    "plot_similarity(df_test)"
   ]
  },
  {
   "cell_type": "markdown",
   "id": "30d8b858-572f-4801-a96e-96bd64f3643a",
   "metadata": {},
   "source": [
    "<div style='text-align: center'><b>Figure 6.</b> The differences of similarity of scraped tags and tags determined from Associated Pattern Mining between popular and less popular characters. In general, less popular characters have lower similarity therefore their related tags on Danbooru are less helpful than those recommended by the proposed methodology.</div>"
   ]
  },
  {
   "cell_type": "markdown",
   "id": "2b7a0175-aa88-45e8-bb50-1dcb0a113726",
   "metadata": {},
   "source": [
    "<div style='text-align: justify'>By comparing the related tags scraped from Danbooru and the associated tags that were generated from the pyFIM algorithm, we compared the two sets using the Jaccard Similarity metric. This metric was used to gauge both the similarity and diversity of the tags associated with the character image. In the case of the popular characters, their images had a High Tag Frequency score and did not benefit much from the recommended associated tags. However, the less popular characters have a Lower Tag Frequency score and suggests that their currently listed “Related Tags” may not be as relevant as the associated tags produced by the algorithm and therefore are not as helpful. The reason for this may lie in the site’s current method of producing related tags. Their current methodology uses cosine similarity to see how many images each tag would have in common. Some limitations of this method would include its failure to consider <code>general</code> tags which would be descriptive for a character due to the sheer number of posts that would use a <code>general</code> tag. Another limitation is that characters and genres could sometimes be recommended by sheer popularity instead of relatability due to the metric.</div>"
   ]
  },
  {
   "cell_type": "markdown",
   "id": "02e91fcf-7d96-4cb8-a888-c9aa11eef127",
   "metadata": {},
   "source": [
    "## 10. Conclusion\n",
    "\n",
    "<div style='text-align: justify'>Frequent Itemset Mining algorithms proves to be a relevant tool in recommending additional metadata for images in the form of tags through Association Analysis. Although it suffers from cold start situations, it serves as a relevant method to supplement primary methods through association. This system can augment existing metadata by recommending associated tags using an image’s character tag which would serve as a ground truth label. Additionally, this system would be able to identify tags for an image using Frequent Itemset Mining algorithms which are less computationally expensive compared to solely using CNNs. These could even be used to complement CNNs which would tag characters, and the FIM implementations such as the methodology above would suggest associated tags after the character is identified.This algorithm can also be expanded to other datasets which contain images with an object ground truth such as images of cars could inherently have wheels. It would also be recommended that these could also be used in Danbooru's website interface as a supplement tag suggestion recommender where users can manually select if the images produce the specific tags. In this way, more ground truth labels can be acquired and used to train the tagging neural network models in their back end.</div>"
   ]
  },
  {
   "cell_type": "markdown",
   "id": "f0a8bcf6-8a9f-4a51-9ba0-9ecfb8f63feb",
   "metadata": {},
   "source": [
    "## 11. Recommendations\n",
    "\n",
    "<div style='text-align: justify'>In our methodology, confidence was used as a metric to determine the tagsets that would be most related to a particular character. This was done by filtering the dataset to include only a specific character then running the pyFIM <code>arules</code> algorithm. Originally, we wanted to explore using Lift as the key metric. However, lift could not be used because in order to use it properly, we would need to run the algorithm on the entire dataset which would be computationally expensive and there may not be significant differences to the results. For larger datasets, this method would need more computing resources relative to what is available to us currently. Additionally, huge datasets such as this carry a wealth of metadata so utilizing Association Analysis metrics that rely on probabilities generate potentially very small numbers which when divided wouldproduce big numbers that make it impractical for these metrics to benefit underused tags. It is also recommended in future study, that FIM be a possible solution to filling missing tags. Danbooru's API is comprehensive and scraping is difficult than expected. Therefore, testing for this requires more resources outside of this project's scope.<br><br>\n",
    "It is also recommended that other frequent itemset libraries be explored. Since this dataset is scalable with the use of pySpark, it is recommended that a scalable library be used as well such as those built in to Spark (https://spark.apache.org/docs/latest/ml-frequent-pattern-mining.html).</div>"
   ]
  },
  {
   "cell_type": "markdown",
   "id": "8691d04b-3c1a-480d-b331-9d0dc8d6db84",
   "metadata": {},
   "source": [
    "## References"
   ]
  },
  {
   "cell_type": "markdown",
   "id": "b9cccee2-ad00-4b6d-8476-3a15b8bb068a",
   "metadata": {},
   "source": [
    "[1] Gwern. “Danbooru2021: A Large-Scale Crowdsourced and Tagged Anime Illustration Dataset.” · Gwern.net, 21 Jan. 2022, https://www.gwern.net/Danbooru2021. \n",
    "\n",
    "[2] “Help:Api Wiki.” _Danbooru_, https://danbooru.donmai.us/wiki_pages/help:api. \n",
    "\n",
    "[3] King Natsu about 3 years ago, et al. “Meaning of the Related Tags.” _Danbooru_, https://danbooru.donmai.us/forum_topics/15848. \n",
    "\n",
    "[4] Moffitt, Chris. “Introduction to Market Basket Analysis in&nbsp;Python.” _Practical Business Python Atom_, 3 July 2017, https://pbpython.com/market-basket-analysis.html. "
   ]
  }
 ],
 "metadata": {
  "kernelspec": {
   "display_name": "Python 3",
   "language": "python",
   "name": "python3"
  },
  "language_info": {
   "codemirror_mode": {
    "name": "ipython",
    "version": 3
   },
   "file_extension": ".py",
   "mimetype": "text/x-python",
   "name": "python",
   "nbconvert_exporter": "python",
   "pygments_lexer": "ipython3",
   "version": "3.8.8"
  },
  "latex_envs": {
   "LaTeX_envs_menu_present": true,
   "autoclose": true,
   "autocomplete": true,
   "bibliofile": "biblio.bib",
   "cite_by": "apalike",
   "current_citInitial": 1,
   "eqLabelWithNumbers": true,
   "eqNumInitial": 1,
   "hotkeys": {
    "equation": "Ctrl-E",
    "itemize": "Ctrl-I"
   },
   "labels_anchors": false,
   "latex_user_defs": false,
   "report_style_numbering": false,
   "user_envs_cfg": false
  },
  "toc": {
   "base_numbering": 1,
   "nav_menu": {},
   "number_sections": true,
   "sideBar": true,
   "skip_h1_title": false,
   "title_cell": "Table of Contents",
   "title_sidebar": "Contents",
   "toc_cell": false,
   "toc_position": {},
   "toc_section_display": true,
   "toc_window_display": false
  }
 },
 "nbformat": 4,
 "nbformat_minor": 5
}
